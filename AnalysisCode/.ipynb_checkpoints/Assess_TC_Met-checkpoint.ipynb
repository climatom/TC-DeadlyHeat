{
 "cells": [
  {
   "cell_type": "markdown",
   "metadata": {},
   "source": [
    "# TC Met-Impact\n",
    "Here the impact of TCs on the surface meteorology is assessed. Prior to running this notebook, the WFDEI gridded fields must have been extracted to the points of TC landfall. \n",
    "\n",
    "The main analysis components covered here are: \n",
    "\n",
    "(1) The generation of Day-of-Year climatologies for each landfalling site\n",
    "\n",
    "(2) Extraction of the met time series for the 30-days post TC landfall at each site, expressed as anomalies\n",
    "\n",
    "Under (2) the maximum absolute HI per TC (rather than site) is also assessed, so that we can assess whether conditions became \"dangerously hot\". \n"
   ]
  },
  {
   "cell_type": "code",
   "execution_count": 147,
   "metadata": {},
   "outputs": [],
   "source": [
    "# Perform imports and set parameters\n",
    "import GeneralFunctions as GF\n",
    "import TC_Utils as tc\n",
    "import calendar, pickle, numpy as np\n",
    "from netCDF4 import Dataset\n",
    "import matplotlib.pyplot as plt\n",
    "\n",
    "# MetCDF4 file -- holding WFDEI data (extracted to TC landfall points)\n",
    "metfile=\"/media/gytm3/WD12TB/TropicalCyclones/TC-DeadlyHeat/Data/TC_met_all.nc\"\n",
    "# has variables...\n",
    "vs=[\"hi\",\"Tair\",\"Qair\",\"PSurf\"]\n",
    "\n",
    "# Use a stdv of...\n",
    "stdv=15./1.96 # to control the \"bandwidth\" of the Gaussian kernel\n",
    "\n",
    "# Examine met this many days after TC landfall\n",
    "ndays=30\n",
    "\n",
    "# Examine this many days BEFORE TC landfall\n",
    "nbefore=30\n",
    "\n",
    "# Main meta-file with all TC landfalling info \n",
    "locfile=\"/media/gytm3/WD12TB/TropicalCyclones/TC-DeadlyHeat/Data/LandFall.txt\"\n",
    "# NOTE>> Format is:\n",
    "# [0] ID; [1] Year [2] jd.dayfrac; [3] lat; [4] lon; [5] grid lat\n",
    "# [6] grid lon; [7] grid row; [8] grid col; [9] dist between gridpoint and \n",
    "# TC landfall coordinate\n",
    "\n",
    "# Now read...\n",
    "meto=Dataset(metfile,\"r\")\n",
    "locs=np.loadtxt(locfile,skiprows=1)\n",
    "# get ntime and nlocs\n",
    "ntime,nlocs=meto.variables[vs[0]].shape\n"
   ]
  },
  {
   "cell_type": "markdown",
   "metadata": {},
   "source": [
    "## [1] Computing the seasonal cycle (and anomalies)"
   ]
  },
  {
   "cell_type": "code",
   "execution_count": 65,
   "metadata": {},
   "outputs": [
    {
     "name": "stdout",
     "output_type": "stream",
     "text": [
      "Finished with variable: hi\n",
      "Finished with variable: Tair\n",
      "Finished with variable: Qair\n",
      "Finished with variable: PSurf\n"
     ]
    }
   ],
   "source": [
    "# Prepare met data for iteration to compute the seasonal cycles\n",
    "time=meto.variables[\"time\"]\n",
    "yr,mon,day,hr,dt=\\\n",
    "GF.conTimes(time_str=time.units,calendar=time.calendar,\\\n",
    "                    times=time[:],safe=False)\n",
    "grid_times=np.floor(tc.dt2decday(dt)) # decimal time (WFDEI)\n",
    "gridlat=meto.variables[\"lat\"][:]\n",
    "gridlon=meto.variables[\"lon\"][:]\n",
    "\n",
    "# Now we're going to iterate over the met vars and the locations --\n",
    "# calling the kernel DoY smoother to compute the DoY climatology \n",
    "# at each site (DoYs 1-->366)\n",
    "clims={}; anoms={}\n",
    "for v in vs:\n",
    "    clims[v]=np.array([tc.kernel_smooth_doy(meto.variables[v][:,ii],grid_times,stdv)[1] for ii in range(nlocs)])\n",
    "    anoms[v]=np.zeros((ntime,nlocs))\n",
    "    # Compute anomalies by looping over unique days\n",
    "    for dd in range(1,367):\n",
    "        idx=grid_times==dd\n",
    "        anoms[v][idx,:]=meto.variables[v][idx,:]-clims[v][:,dd-1]\n",
    "    print \"Finished with variable: %s\" % v\n",
    "\n",
    "    \n"
   ]
  },
  {
   "cell_type": "markdown",
   "metadata": {},
   "source": [
    "## [2] Extracting the anomalies before/after TC landfall"
   ]
  },
  {
   "cell_type": "code",
   "execution_count": 137,
   "metadata": {},
   "outputs": [],
   "source": [
    "\n",
    "# Now the post-TC met should be found for the ndays post TC-landfall. \n",
    "# The easiest way to do this is to use the year JD.xx of landfall and then take the year and jd+1:jd+ndays using \n",
    "# yr and grid_times. That logical index can be used to slice anoms and the raw meto.variables variable\n",
    "\n",
    "# Make substitutions for clearer code\n",
    "tc_yy=locs[:,1]\n",
    "tc_jd=np.floor(locs[:,2])\n",
    "nim=0\n",
    "for v in vs:\n",
    "    \n",
    "    impact[v]=np.zeros((nlocs,ndays))\n",
    "    profile[v]=np.zeros((nlocs,(ndays+nbefore+1)))\n",
    "    for ll in range(nlocs):\n",
    "        \n",
    "        \n",
    "        if tc_yy[ll]>2015: continue # we do this because only HI goes up to 2016/17 -- was extended with ERA-I. \n",
    "            \n",
    "        if tc_yy[ll]==2015 and tc_jd[ll]>(365-ndays): continue # again, because 30-day window will trigger an \n",
    "            # out-of-bounds error\n",
    "        \n",
    "        # Deal with impact first (after TC, only)\n",
    "        idx=np.logical_and(yr==locs[ll,1],np.logical_and(grid_times>=tc_jd[ll]+1,grid_times<=tc_jd[ll]+ndays))\n",
    "        n=np.sum(idx)\n",
    "        \n",
    "        if n <ndays: # then we need to \"wrap\" around to the BEGINNING of the NEXT year\n",
    "            idx=np.logical_or(idx,np.logical_and(yr==locs[ll,1]+1,grid_times<=ndays-n))\n",
    "            \n",
    "        # Store impact \n",
    "        impact[v][ll,:]=anoms[v][idx,ll]\n",
    "       \n",
    "        # Now repeat -- but for profile (includes days before -- little more fiddly to set index)\n",
    "        idx_before=np.logical_and(yr==locs[ll,1],np.logical_and(grid_times<=tc_jd[ll],grid_times>=tc_jd[ll]-nbefore))\n",
    "        n=np.sum(idx_before)\n",
    "        if n <(nbefore+1): #then we need to \"wrap\" around to the END of the PREVIOUS year\n",
    "            yr_prev=locs[ll,1]-1\n",
    "            nshort=nbefore-n\n",
    "            if calendar.isleap(np.int(yr_prev)): dmax=366\n",
    "            else: dmax=365  \n",
    "            idx_before=np.logical_or(idx_before,np.logical_and(yr==locs[ll,1]-1,grid_times>=dmax-nshort))\n",
    "        idx=np.logical_or(idx,idx_before)\n",
    "        \n",
    "        # Store profile\n",
    "        profile[v][ll,:]=anoms[v][idx,ll]\n",
    "        nim+=1\n",
    "        \n",
    "    # Truncate as necessary\n",
    "    impact[v]=impact[v][:nim,:]\n",
    "    profile[v]=profile[v][:nim,:]"
   ]
  },
  {
   "cell_type": "markdown",
   "metadata": {},
   "source": [
    "## [3] Exploring the results "
   ]
  },
  {
   "cell_type": "code",
   "execution_count": 148,
   "metadata": {},
   "outputs": [
    {
     "data": {
      "image/png": "[encoded data removed]",
      "text/plain": [
       "<Figure size 432x288 with 4 Axes>"
      ]
     },
     "metadata": {},
     "output_type": "display_data"
    }
   ],
   "source": [
    "# Now we can summarise/explore the profile -- assessing the mean anomaly -- and detecting whether it is significantly \n",
    "# different from zero \n",
    "mu_anom={}\n",
    "x=range(-30,31)\n",
    "fig,ax=plt.subplots(2,2); count=0\n",
    "for v in vs: \n",
    "    a=ax.flat[count]\n",
    "    mu_anom[v]=np.mean(profile[v],axis=0)\n",
    "    sem=np.std(profile[v],axis=0)/np.sqrt(len(profile[v]))\n",
    "    a.plot(x,mu_anom[v])\n",
    "    a.fill_between(x,mu_anom[v]-1.96*sem,mu_anom[v]+1.96*sem,alpha=0.2)\n",
    "    a.axhline(0,color=\"red\"); a.set_title(v); count+=1\n",
    "plt.tight_layout()\n",
    "\n",
    "# Saving the results: (pickling; take anoms and full profile)\n",
    "pickle.dump(anoms,open(\"TC_Met_Anomaly_Time_Series.p\",\"wb\"))\n",
    "pickle.dump(profile,open(\"TC_Met_Anomaly_Profile.p\",\"wb\"))\n"
   ]
  },
  {
   "cell_type": "markdown",
   "metadata": {},
   "source": [
    "# [Extra] Repeat the extraction, but for the hi, only. \n",
    "Here we repeat the same idea as in [2], but we read a different NetCDF4 dataset, which extends up to 2017. And we \n",
    "Also take the raw time series -- not the anomalies. "
   ]
  },
  {
   "cell_type": "code",
   "execution_count": 172,
   "metadata": {},
   "outputs": [
    {
     "name": "stdout",
     "output_type": "stream",
     "text": [
      "37837458.02521658\n"
     ]
    }
   ],
   "source": [
    "# Change input data#\n",
    "metfile=\"/media/gytm3/WD12TB/TropicalCyclones/TC-DeadlyHeat/Data/TC_hi_only.nc\"\n",
    "meto=Dataset(metfile,\"r\")\n",
    "\n",
    "# get ntime and nlocs\n",
    "ntime,nlocs=meto.variables[vs[0]].shape\n",
    "time=meto.variables[\"time\"]\n",
    "yr,mon,day,hr,dt=\\\n",
    "GF.conTimes(time_str=time.units,calendar=time.calendar,\\\n",
    "                    times=time[:],safe=False)\n",
    "grid_times=np.floor(tc.dt2decday(dt)) # decimal time (WFDEI)\n",
    "pop=meto.variables[\"population\"][:]\n",
    "\n",
    "# Otherwise, we basically copy/paste/edit the code from [3]...\n",
    "\n",
    "# Make substitutions for clearer code\n",
    "tc_yy=locs[:,1]\n",
    "tc_jd=np.floor(locs[:,2])\n",
    "nim=0\n",
    "hi_out=np.zeros((nlocs,ndays))\n",
    "hi_out_pop=np.zeros((nlocs,3))\n",
    "for ll in range(nlocs):\n",
    "                 \n",
    "        if tc_yy[ll]==2017 and tc_jd[ll]>(365-ndays): continue # because ndays window will trigger an \n",
    "            # out-of-bounds error\n",
    "        \n",
    "        # Deal with impact first (after TC, only)\n",
    "        idx=np.logical_and(yr==locs[ll,1],np.logical_and(grid_times>=tc_jd[ll]+1,grid_times<=tc_jd[ll]+ndays))\n",
    "        n=np.sum(idx)\n",
    "        \n",
    "        if n <ndays: # then we need to \"wrap\" around to the BEGINNING of the NEXT year\n",
    "            idx=np.logical_or(idx,np.logical_and(yr==locs[ll,1]+1,grid_times<=ndays-n))\n",
    "            \n",
    "        # Store raw hi series\n",
    "        hi_out[ll,:]=meto.variables[\"hi\"][idx,ll]\n",
    "        \n",
    "        # Store max hi and population for thos loc\n",
    "        hi_out_pop[ll,0]=ids[ll]; hi_out_pop[ll,1]=np.max(hi_out[ll,:]); hi_out_pop[ll,2]=pop[ll]\n",
    "        nim+=1      \n",
    "              \n",
    "# Truncate as necessary\n",
    "hi_out=hi_out[:nim,:]\n",
    "hi_out_pop=hi_out_pop[:nim,:]\n",
    "\n",
    "# Write the pop file out to a text file (human-readable); the hi_out is post-processed, below.\n",
    "np.savetxt(\"/media/gytm3/WD12TB/TropicalCyclones/TC-DeadlyHeat/Data/HI_pop_out.txt\",hi_out_pop,\n",
    "          fmt=\"%.2f\",header=\"ID\\tHI\\tPop\",comments=\"\")\n",
    "\n",
    "# Now we need to find the maximum across each TC at each time step (using the ID attached to each of the locations)\n",
    "# If we exceed 40.6, we should save the HI series (pickle) using the ID as the filename. Otherwise we produce an \n",
    "# n x 2 array: [id | max hi]\n",
    "ids=meto.variables[\"id\"]\n",
    "uids=np.unique(ids)\n",
    "tc_hi_record=np.zeros((len(uids),2))\n",
    "count=0\n",
    "for ii in uids:\n",
    "    idx=ids==ii\n",
    "    tc_hi_record[count,0]=ii; tc_hi_record[count,1]=np.max(hi_out[idx,:])\n",
    "    if tc_hi_record[count,1]>40.6: \n",
    "        pickle.dump(np.max(hi_out[idx,:],axis=0),open(\"%.0f_max_hi.p\",\"wb\"))\n",
    "    count+=1\n",
    "    \n",
    "# We also need to think about the population at this stage -- should be in the netCDF file...\n"
   ]
  },
  {
   "cell_type": "code",
   "execution_count": 162,
   "metadata": {},
   "outputs": [],
   "source": []
  },
  {
   "cell_type": "code",
   "execution_count": null,
   "metadata": {},
   "outputs": [],
   "source": []
  }
 ],
 "metadata": {
  "kernelspec": {
   "display_name": "Python 2",
   "language": "python",
   "name": "python2"
  },
  "language_info": {
   "codemirror_mode": {
    "name": "ipython",
    "version": 2
   },
   "file_extension": ".py",
   "mimetype": "text/x-python",
   "name": "python",
   "nbconvert_exporter": "python",
   "pygments_lexer": "ipython2",
   "version": "2.7.15"
  }
 },
 "nbformat": 4,
 "nbformat_minor": 2
}
