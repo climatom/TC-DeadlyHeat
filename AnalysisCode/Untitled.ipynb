{
 "cells": [
  {
   "cell_type": "markdown",
   "metadata": {},
   "source": [
    "# TC-Impact on Met: Weather Stations\n",
    "\n",
    "Here we search the GSOD for weather stations near TC landfall to assess the impact of TC passage on the surface meteorology. "
   ]
  },
  {
   "cell_type": "code",
   "execution_count": 13,
   "metadata": {},
   "outputs": [],
   "source": [
    "import ulmo as ul, numpy as np, pandas as pd,TC_Utils as tc"
   ]
  },
  {
   "cell_type": "code",
   "execution_count": 11,
   "metadata": {},
   "outputs": [],
   "source": [
    "# Open the obs file (with landfall locations)\n",
    "# strcture is: ID\tYEAR\tJD.JD\tLAT\tLON\tGLAT\tGLON\tROW\tCOL\tDIST\n",
    "tcdata=np.loadtxt(\"/media/gytm3/WD12TB/TropicalCyclones/TC-DeadlyHeat/Data/LandFall.txt\",delimiter=\"\\t\",skiprows=1)"
   ]
  },
  {
   "cell_type": "code",
   "execution_count": 16,
   "metadata": {},
   "outputs": [
    {
     "name": "stdout",
     "output_type": "stream",
     "text": [
      "26029\n"
     ]
    }
   ],
   "source": [
    "# Use ulmo to return meta data on ALL stations with data since 1979\n",
    "all_stations=ul.ncdc.gsod.get_stations(start=\"1979-01-01 00:00:00\")"
   ]
  },
  {
   "cell_type": "code",
   "execution_count": 24,
   "metadata": {},
   "outputs": [
    {
     "name": "stdout",
     "output_type": "stream",
     "text": [
      "13.933\n"
     ]
    }
   ],
   "source": [
    "# Figure out closeness\n",
    "ids=all_stations.keys() # station codes\n",
    "latlon=np.array([[all_stations[ii][\"latitude\"],all_stations[ii][\"longitude\"]] for ii in ids]) # coordinates\n",
    "# Iterate over stations and store their lon/lat in numpy array. Also store code in list\n",
    "#for key in all_stations.keys():"
   ]
  },
  {
   "cell_type": "code",
   "execution_count": null,
   "metadata": {},
   "outputs": [],
   "source": []
  }
 ],
 "metadata": {
  "kernelspec": {
   "display_name": "Python 2",
   "language": "python",
   "name": "python2"
  },
  "language_info": {
   "codemirror_mode": {
    "name": "ipython",
    "version": 2
   },
   "file_extension": ".py",
   "mimetype": "text/x-python",
   "name": "python",
   "nbconvert_exporter": "python",
   "pygments_lexer": "ipython2",
   "version": "2.7.15"
  }
 },
 "nbformat": 4,
 "nbformat_minor": 2
}
